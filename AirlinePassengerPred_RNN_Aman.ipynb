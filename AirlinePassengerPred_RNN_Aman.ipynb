{
 "cells": [
  {
   "cell_type": "code",
   "execution_count": null,
   "id": "a3e29b2f",
   "metadata": {
    "id": "a3e29b2f"
   },
   "outputs": [],
   "source": [
    "import numpy as np\n",
    "import pandas as pd\n",
    "import matplotlib.pyplot as plt\n",
    "from sklearn.preprocessing import MinMaxScaler\n",
    "from tensorflow.keras.models import Sequential\n",
    "from tensorflow.keras.layers import Dense, SimpleRNN, Dropout"
   ]
  },
  {
   "cell_type": "markdown",
   "id": "1799bf2d",
   "metadata": {
    "id": "1799bf2d"
   },
   "source": [
    "LOAD THE DOWNLOADED CSV FILE"
   ]
  },
  {
   "cell_type": "code",
   "execution_count": null,
   "id": "1982c011",
   "metadata": {
    "id": "1982c011",
    "outputId": "232e1b6d-0fb0-4f54-8f2b-794fd5f8fed9"
   },
   "outputs": [
    {
     "data": {
      "text/html": [
       "<div>\n",
       "<style scoped>\n",
       "    .dataframe tbody tr th:only-of-type {\n",
       "        vertical-align: middle;\n",
       "    }\n",
       "\n",
       "    .dataframe tbody tr th {\n",
       "        vertical-align: top;\n",
       "    }\n",
       "\n",
       "    .dataframe thead th {\n",
       "        text-align: right;\n",
       "    }\n",
       "</style>\n",
       "<table border=\"1\" class=\"dataframe\">\n",
       "  <thead>\n",
       "    <tr style=\"text-align: right;\">\n",
       "      <th></th>\n",
       "      <th>Month</th>\n",
       "      <th>Passengers</th>\n",
       "    </tr>\n",
       "  </thead>\n",
       "  <tbody>\n",
       "    <tr>\n",
       "      <th>0</th>\n",
       "      <td>1949-01</td>\n",
       "      <td>112</td>\n",
       "    </tr>\n",
       "    <tr>\n",
       "      <th>1</th>\n",
       "      <td>1949-02</td>\n",
       "      <td>118</td>\n",
       "    </tr>\n",
       "    <tr>\n",
       "      <th>2</th>\n",
       "      <td>1949-03</td>\n",
       "      <td>132</td>\n",
       "    </tr>\n",
       "    <tr>\n",
       "      <th>3</th>\n",
       "      <td>1949-04</td>\n",
       "      <td>129</td>\n",
       "    </tr>\n",
       "    <tr>\n",
       "      <th>4</th>\n",
       "      <td>1949-05</td>\n",
       "      <td>121</td>\n",
       "    </tr>\n",
       "  </tbody>\n",
       "</table>\n",
       "</div>"
      ],
      "text/plain": [
       "     Month  Passengers\n",
       "0  1949-01         112\n",
       "1  1949-02         118\n",
       "2  1949-03         132\n",
       "3  1949-04         129\n",
       "4  1949-05         121"
      ]
     },
     "execution_count": 2,
     "metadata": {},
     "output_type": "execute_result"
    }
   ],
   "source": [
    "data = pd.read_csv('files/airline-passengers.csv')\n",
    "data.head()"
   ]
  },
  {
   "cell_type": "markdown",
   "id": "584cba6d",
   "metadata": {
    "id": "584cba6d"
   },
   "source": [
    "converting the data into numpy array form"
   ]
  },
  {
   "cell_type": "code",
   "execution_count": null,
   "id": "fb082092",
   "metadata": {
    "id": "fb082092"
   },
   "outputs": [],
   "source": [
    "data = data['Passengers'].values.reshape(-1, 1)"
   ]
  },
  {
   "cell_type": "markdown",
   "id": "d6ba58b1",
   "metadata": {
    "id": "d6ba58b1"
   },
   "source": [
    "Normalizing the data"
   ]
  },
  {
   "cell_type": "code",
   "execution_count": null,
   "id": "2b16ee2c",
   "metadata": {
    "id": "2b16ee2c"
   },
   "outputs": [],
   "source": [
    "scaler = MinMaxScaler(feature_range=(0,1))\n",
    "data = scaler.fit_transform(data)"
   ]
  },
  {
   "cell_type": "markdown",
   "id": "598620d6",
   "metadata": {
    "id": "598620d6"
   },
   "source": [
    "Splitting the data into train and test data"
   ]
  },
  {
   "cell_type": "code",
   "execution_count": null,
   "id": "b209f6a7",
   "metadata": {
    "id": "b209f6a7"
   },
   "outputs": [],
   "source": [
    "train_data = data[:int(len(data)*0.7)]\n",
    "test_data = data[int(len(data)*0.7):]"
   ]
  },
  {
   "cell_type": "markdown",
   "id": "d6972873",
   "metadata": {
    "id": "d6972873"
   },
   "source": [
    "Creating a function"
   ]
  },
  {
   "cell_type": "code",
   "execution_count": null,
   "id": "0771e196",
   "metadata": {
    "id": "0771e196"
   },
   "outputs": [],
   "source": [
    "def create_dataset(data, window_size):\n",
    "    X, y = [],[]\n",
    "    for i in range(len(data) - window_size - 1):\n",
    "        X.append(data[i:(i + window_size), 0])\n",
    "        y.append(data[i + window_size, 0])\n",
    "    return np.array(X), np.array(y)\n",
    "\n",
    "window_size = 10\n",
    "X_train, y_train = create_dataset(train_data, window_size)\n",
    "X_test, y_test = create_dataset(test_data, window_size)\n",
    "\n",
    "X_train = np.reshape(X_train, (X_train.shape[0], X_train.shape[1], 1))\n",
    "X_test = np.reshape(X_test, (X_test.shape[0], X_test.shape[1], 1))"
   ]
  },
  {
   "cell_type": "markdown",
   "id": "e1bd693e",
   "metadata": {
    "id": "e1bd693e"
   },
   "source": [
    "BUilding the RNN Model"
   ]
  },
  {
   "cell_type": "code",
   "execution_count": null,
   "id": "0e81419e",
   "metadata": {
    "id": "0e81419e"
   },
   "outputs": [],
   "source": [
    "model = Sequential()\n",
    "model.add(SimpleRNN(units=50, return_sequences=True, input_shape=(X_train.shape[1], 1)))\n",
    "model.add(Dropout(0.2))\n",
    "model.add(SimpleRNN(units=50))\n",
    "model.add(Dropout(0.2))\n",
    "model.add(Dense(units=1))"
   ]
  },
  {
   "cell_type": "markdown",
   "id": "aa11a05c",
   "metadata": {
    "id": "aa11a05c"
   },
   "source": [
    "Compiling the model"
   ]
  },
  {
   "cell_type": "code",
   "execution_count": null,
   "id": "5393071f",
   "metadata": {
    "id": "5393071f"
   },
   "outputs": [],
   "source": [
    "model.compile(optimizer='adam', loss='mean_squared_error')"
   ]
  },
  {
   "cell_type": "markdown",
   "id": "672ec9d6",
   "metadata": {
    "id": "672ec9d6"
   },
   "source": [
    "Train the model using train data"
   ]
  },
  {
   "cell_type": "code",
   "execution_count": null,
   "id": "54fd6e3b",
   "metadata": {
    "id": "54fd6e3b",
    "outputId": "04a0cfba-c563-4519-f299-6461252a63a3"
   },
   "outputs": [
    {
     "name": "stdout",
     "output_type": "stream",
     "text": [
      "Epoch 1/100\n",
      "3/3 [==============================] - 1s 4ms/step - loss: 0.2269\n",
      "Epoch 2/100\n",
      "3/3 [==============================] - 0s 3ms/step - loss: 0.0894\n",
      "Epoch 3/100\n",
      "3/3 [==============================] - 0s 4ms/step - loss: 0.0613\n",
      "Epoch 4/100\n",
      "3/3 [==============================] - 0s 4ms/step - loss: 0.0725\n",
      "Epoch 5/100\n",
      "3/3 [==============================] - 0s 4ms/step - loss: 0.0394\n",
      "Epoch 6/100\n",
      "3/3 [==============================] - 0s 4ms/step - loss: 0.0374\n",
      "Epoch 7/100\n",
      "3/3 [==============================] - 0s 4ms/step - loss: 0.0385\n",
      "Epoch 8/100\n",
      "3/3 [==============================] - 0s 4ms/step - loss: 0.0266\n",
      "Epoch 9/100\n",
      "3/3 [==============================] - 0s 4ms/step - loss: 0.0293\n",
      "Epoch 10/100\n",
      "3/3 [==============================] - 0s 3ms/step - loss: 0.0375\n",
      "Epoch 11/100\n",
      "3/3 [==============================] - 0s 3ms/step - loss: 0.0287\n",
      "Epoch 12/100\n",
      "3/3 [==============================] - 0s 4ms/step - loss: 0.0226\n",
      "Epoch 13/100\n",
      "3/3 [==============================] - 0s 4ms/step - loss: 0.0161\n",
      "Epoch 14/100\n",
      "3/3 [==============================] - 0s 4ms/step - loss: 0.0185\n",
      "Epoch 15/100\n",
      "3/3 [==============================] - 0s 4ms/step - loss: 0.0177\n",
      "Epoch 16/100\n",
      "3/3 [==============================] - 0s 3ms/step - loss: 0.0152\n",
      "Epoch 17/100\n",
      "3/3 [==============================] - 0s 4ms/step - loss: 0.0208\n",
      "Epoch 18/100\n",
      "3/3 [==============================] - 0s 4ms/step - loss: 0.0111\n",
      "Epoch 19/100\n",
      "3/3 [==============================] - 0s 3ms/step - loss: 0.0137\n",
      "Epoch 20/100\n",
      "3/3 [==============================] - 0s 4ms/step - loss: 0.0188\n",
      "Epoch 21/100\n",
      "3/3 [==============================] - 0s 4ms/step - loss: 0.0096\n",
      "Epoch 22/100\n",
      "3/3 [==============================] - 0s 4ms/step - loss: 0.0145\n",
      "Epoch 23/100\n",
      "3/3 [==============================] - 0s 3ms/step - loss: 0.0122\n",
      "Epoch 24/100\n",
      "3/3 [==============================] - 0s 3ms/step - loss: 0.0146\n",
      "Epoch 25/100\n",
      "3/3 [==============================] - 0s 3ms/step - loss: 0.0151\n",
      "Epoch 26/100\n",
      "3/3 [==============================] - 0s 3ms/step - loss: 0.0120\n",
      "Epoch 27/100\n",
      "3/3 [==============================] - 0s 3ms/step - loss: 0.0139\n",
      "Epoch 28/100\n",
      "3/3 [==============================] - 0s 3ms/step - loss: 0.0119\n",
      "Epoch 29/100\n",
      "3/3 [==============================] - 0s 4ms/step - loss: 0.0139\n",
      "Epoch 30/100\n",
      "3/3 [==============================] - 0s 4ms/step - loss: 0.0132\n",
      "Epoch 31/100\n",
      "3/3 [==============================] - 0s 4ms/step - loss: 0.0115\n",
      "Epoch 32/100\n",
      "3/3 [==============================] - 0s 3ms/step - loss: 0.0102\n",
      "Epoch 33/100\n",
      "3/3 [==============================] - 0s 3ms/step - loss: 0.0102\n",
      "Epoch 34/100\n",
      "3/3 [==============================] - 0s 3ms/step - loss: 0.0151\n",
      "Epoch 35/100\n",
      "3/3 [==============================] - 0s 4ms/step - loss: 0.0125\n",
      "Epoch 36/100\n",
      "3/3 [==============================] - 0s 4ms/step - loss: 0.0098\n",
      "Epoch 37/100\n",
      "3/3 [==============================] - 0s 4ms/step - loss: 0.0088\n",
      "Epoch 38/100\n",
      "3/3 [==============================] - 0s 4ms/step - loss: 0.0103\n",
      "Epoch 39/100\n",
      "3/3 [==============================] - 0s 4ms/step - loss: 0.0088\n",
      "Epoch 40/100\n",
      "3/3 [==============================] - 0s 4ms/step - loss: 0.0098\n",
      "Epoch 41/100\n",
      "3/3 [==============================] - 0s 4ms/step - loss: 0.0081\n",
      "Epoch 42/100\n",
      "3/3 [==============================] - 0s 3ms/step - loss: 0.0110\n",
      "Epoch 43/100\n",
      "3/3 [==============================] - 0s 5ms/step - loss: 0.0122\n",
      "Epoch 44/100\n",
      "3/3 [==============================] - 0s 5ms/step - loss: 0.0110\n",
      "Epoch 45/100\n",
      "3/3 [==============================] - 0s 4ms/step - loss: 0.0066\n",
      "Epoch 46/100\n",
      "3/3 [==============================] - 0s 4ms/step - loss: 0.0072\n",
      "Epoch 47/100\n",
      "3/3 [==============================] - 0s 4ms/step - loss: 0.0084\n",
      "Epoch 48/100\n",
      "3/3 [==============================] - 0s 4ms/step - loss: 0.0079\n",
      "Epoch 49/100\n",
      "3/3 [==============================] - 0s 3ms/step - loss: 0.0084\n",
      "Epoch 50/100\n",
      "3/3 [==============================] - 0s 4ms/step - loss: 0.0070\n",
      "Epoch 51/100\n",
      "3/3 [==============================] - 0s 4ms/step - loss: 0.0065\n",
      "Epoch 52/100\n",
      "3/3 [==============================] - 0s 3ms/step - loss: 0.0107\n",
      "Epoch 53/100\n",
      "3/3 [==============================] - 0s 4ms/step - loss: 0.0055\n",
      "Epoch 54/100\n",
      "3/3 [==============================] - 0s 3ms/step - loss: 0.0067\n",
      "Epoch 55/100\n",
      "3/3 [==============================] - 0s 3ms/step - loss: 0.0077\n",
      "Epoch 56/100\n",
      "3/3 [==============================] - 0s 3ms/step - loss: 0.0074\n",
      "Epoch 57/100\n",
      "3/3 [==============================] - 0s 4ms/step - loss: 0.0066\n",
      "Epoch 58/100\n",
      "3/3 [==============================] - 0s 3ms/step - loss: 0.0082\n",
      "Epoch 59/100\n",
      "3/3 [==============================] - 0s 4ms/step - loss: 0.0078\n",
      "Epoch 60/100\n",
      "3/3 [==============================] - 0s 4ms/step - loss: 0.0069\n",
      "Epoch 61/100\n",
      "3/3 [==============================] - 0s 3ms/step - loss: 0.0079\n",
      "Epoch 62/100\n",
      "3/3 [==============================] - 0s 3ms/step - loss: 0.0062\n",
      "Epoch 63/100\n",
      "3/3 [==============================] - 0s 4ms/step - loss: 0.0074\n",
      "Epoch 64/100\n",
      "3/3 [==============================] - 0s 4ms/step - loss: 0.0081\n",
      "Epoch 65/100\n",
      "3/3 [==============================] - 0s 4ms/step - loss: 0.0045\n",
      "Epoch 66/100\n",
      "3/3 [==============================] - 0s 4ms/step - loss: 0.0069\n",
      "Epoch 67/100\n",
      "3/3 [==============================] - 0s 4ms/step - loss: 0.0034\n",
      "Epoch 68/100\n",
      "3/3 [==============================] - 0s 3ms/step - loss: 0.0072\n",
      "Epoch 69/100\n",
      "3/3 [==============================] - 0s 4ms/step - loss: 0.0071\n",
      "Epoch 70/100\n",
      "3/3 [==============================] - 0s 4ms/step - loss: 0.0062\n",
      "Epoch 71/100\n",
      "3/3 [==============================] - 0s 4ms/step - loss: 0.0052\n",
      "Epoch 72/100\n",
      "3/3 [==============================] - 0s 4ms/step - loss: 0.0065\n",
      "Epoch 73/100\n",
      "3/3 [==============================] - 0s 4ms/step - loss: 0.0073\n",
      "Epoch 74/100\n",
      "3/3 [==============================] - 0s 3ms/step - loss: 0.0036\n",
      "Epoch 75/100\n",
      "3/3 [==============================] - 0s 4ms/step - loss: 0.0046\n",
      "Epoch 76/100\n",
      "3/3 [==============================] - 0s 4ms/step - loss: 0.0068\n",
      "Epoch 77/100\n",
      "3/3 [==============================] - 0s 4ms/step - loss: 0.0076\n",
      "Epoch 78/100\n",
      "3/3 [==============================] - 0s 3ms/step - loss: 0.0048\n",
      "Epoch 79/100\n",
      "3/3 [==============================] - 0s 3ms/step - loss: 0.0067\n",
      "Epoch 80/100\n",
      "3/3 [==============================] - 0s 4ms/step - loss: 0.0061\n",
      "Epoch 81/100\n",
      "3/3 [==============================] - 0s 3ms/step - loss: 0.0044\n",
      "Epoch 82/100\n",
      "3/3 [==============================] - 0s 3ms/step - loss: 0.0062\n",
      "Epoch 83/100\n",
      "3/3 [==============================] - 0s 3ms/step - loss: 0.0040\n",
      "Epoch 84/100\n",
      "3/3 [==============================] - 0s 3ms/step - loss: 0.0064\n",
      "Epoch 85/100\n",
      "3/3 [==============================] - 0s 4ms/step - loss: 0.0034\n",
      "Epoch 86/100\n",
      "3/3 [==============================] - 0s 4ms/step - loss: 0.0072\n",
      "Epoch 87/100\n",
      "3/3 [==============================] - 0s 4ms/step - loss: 0.0051\n",
      "Epoch 88/100\n",
      "3/3 [==============================] - 0s 4ms/step - loss: 0.0037\n",
      "Epoch 89/100\n",
      "3/3 [==============================] - 0s 3ms/step - loss: 0.0054\n",
      "Epoch 90/100\n",
      "3/3 [==============================] - 0s 3ms/step - loss: 0.0038\n",
      "Epoch 91/100\n",
      "3/3 [==============================] - 0s 3ms/step - loss: 0.0066\n",
      "Epoch 92/100\n",
      "3/3 [==============================] - 0s 4ms/step - loss: 0.0044\n",
      "Epoch 93/100\n",
      "3/3 [==============================] - 0s 4ms/step - loss: 0.0058\n",
      "Epoch 94/100\n",
      "3/3 [==============================] - 0s 4ms/step - loss: 0.0050\n",
      "Epoch 95/100\n",
      "3/3 [==============================] - 0s 4ms/step - loss: 0.0046\n",
      "Epoch 96/100\n",
      "3/3 [==============================] - 0s 4ms/step - loss: 0.0053\n",
      "Epoch 97/100\n",
      "3/3 [==============================] - 0s 4ms/step - loss: 0.0071\n",
      "Epoch 98/100\n",
      "3/3 [==============================] - 0s 4ms/step - loss: 0.0051\n",
      "Epoch 99/100\n",
      "3/3 [==============================] - 0s 3ms/step - loss: 0.0049\n",
      "Epoch 100/100\n",
      "3/3 [==============================] - 0s 4ms/step - loss: 0.0050\n"
     ]
    },
    {
     "data": {
      "text/plain": [
       "<keras.callbacks.History at 0x15fa1129b20>"
      ]
     },
     "execution_count": 9,
     "metadata": {},
     "output_type": "execute_result"
    }
   ],
   "source": [
    "model.fit(X_train, y_train, epochs=100, batch_size=32)"
   ]
  },
  {
   "cell_type": "code",
   "execution_count": null,
   "id": "7ed98cf6",
   "metadata": {
    "id": "7ed98cf6",
    "outputId": "7b287e99-c10c-4cee-d9c9-06b468201bec"
   },
   "outputs": [
    {
     "name": "stdout",
     "output_type": "stream",
     "text": [
      "2/2 [==============================] - 0s 3ms/step\n"
     ]
    }
   ],
   "source": [
    "prediction = model.predict(X_test)"
   ]
  },
  {
   "cell_type": "markdown",
   "id": "4d8dd9a1",
   "metadata": {
    "id": "4d8dd9a1"
   },
   "source": [
    "The output is not correct so will have to reverse the process"
   ]
  },
  {
   "cell_type": "code",
   "execution_count": null,
   "id": "70aeb6f9",
   "metadata": {
    "id": "70aeb6f9",
    "outputId": "da45fe0b-637f-4b7b-e21e-075b32a1be6e"
   },
   "outputs": [
    {
     "data": {
      "text/plain": [
       "array([[0.46159583],\n",
       "       [0.55123776],\n",
       "       [0.59800345],\n",
       "       [0.63721824],\n",
       "       [0.66018635],\n",
       "       [0.6889543 ],\n",
       "       [0.67878526],\n",
       "       [0.5423225 ],\n",
       "       [0.452324  ],\n",
       "       [0.40898198],\n",
       "       [0.50672835],\n",
       "       [0.51266366],\n",
       "       [0.4877328 ],\n",
       "       [0.6126495 ],\n",
       "       [0.6725457 ],\n",
       "       [0.7218815 ],\n",
       "       [0.6997916 ],\n",
       "       [0.75584984],\n",
       "       [0.73710185],\n",
       "       [0.60972786],\n",
       "       [0.5063769 ],\n",
       "       [0.46994144],\n",
       "       [0.6054547 ],\n",
       "       [0.6108313 ],\n",
       "       [0.56928295],\n",
       "       [0.6279158 ],\n",
       "       [0.765654  ],\n",
       "       [0.81799096],\n",
       "       [0.8120659 ],\n",
       "       [0.8486267 ],\n",
       "       [0.81837004],\n",
       "       [0.7010738 ],\n",
       "       [0.59719074]], dtype=float32)"
      ]
     },
     "execution_count": 11,
     "metadata": {},
     "output_type": "execute_result"
    }
   ],
   "source": [
    "prediction"
   ]
  },
  {
   "cell_type": "markdown",
   "id": "94814722",
   "metadata": {
    "id": "94814722"
   },
   "source": [
    "we are reversing the process"
   ]
  },
  {
   "cell_type": "code",
   "execution_count": null,
   "id": "f65a125c",
   "metadata": {
    "id": "f65a125c"
   },
   "outputs": [],
   "source": [
    "prediction = scaler.inverse_transform(prediction)"
   ]
  },
  {
   "cell_type": "code",
   "execution_count": null,
   "id": "1a0786ff",
   "metadata": {
    "id": "1a0786ff",
    "outputId": "7c65a4c6-b788-4600-e2f6-64aa47f9d7ca"
   },
   "outputs": [
    {
     "data": {
      "image/png": "[encoded data removed]",
      "text/plain": [
       "<Figure size 640x480 with 1 Axes>"
      ]
     },
     "metadata": {},
     "output_type": "display_data"
    }
   ],
   "source": [
    "plt.plot(scaler.inverse_transform(test_data[window_size:]), color='blue', label='Current Month')\n",
    "plt.plot(prediction, color='red', label='Next Month')\n",
    "plt.title('Airline passenger Prediction')\n",
    "plt.xlabel('Month')\n",
    "plt.ylabel('Passenger')\n",
    "plt.legend()\n",
    "plt.show()"
   ]
  },
  {
   "cell_type": "code",
   "execution_count": null,
   "id": "a5df6651",
   "metadata": {
    "id": "a5df6651"
   },
   "outputs": [],
   "source": [
    "model.compile(optimizer='sgd', loss='mean_squared_error')"
   ]
  },
  {
   "cell_type": "code",
   "execution_count": null,
   "id": "b3681559",
   "metadata": {
    "id": "b3681559",
    "outputId": "876029e4-be69-4a34-dfaf-7bb7c209965f"
   },
   "outputs": [
    {
     "name": "stdout",
     "output_type": "stream",
     "text": [
      "Epoch 1/50\n",
      "3/3 [==============================] - 1s 3ms/step - loss: 0.0046\n",
      "Epoch 2/50\n",
      "3/3 [==============================] - 0s 4ms/step - loss: 0.0046\n",
      "Epoch 3/50\n",
      "3/3 [==============================] - 0s 3ms/step - loss: 0.0052\n",
      "Epoch 4/50\n",
      "3/3 [==============================] - 0s 3ms/step - loss: 0.0034\n",
      "Epoch 5/50\n",
      "3/3 [==============================] - 0s 4ms/step - loss: 0.0037\n",
      "Epoch 6/50\n",
      "3/3 [==============================] - 0s 4ms/step - loss: 0.0039\n",
      "Epoch 7/50\n",
      "3/3 [==============================] - 0s 3ms/step - loss: 0.0048\n",
      "Epoch 8/50\n",
      "3/3 [==============================] - 0s 3ms/step - loss: 0.0046\n",
      "Epoch 9/50\n",
      "3/3 [==============================] - 0s 4ms/step - loss: 0.0043\n",
      "Epoch 10/50\n",
      "3/3 [==============================] - 0s 4ms/step - loss: 0.0056\n",
      "Epoch 11/50\n",
      "3/3 [==============================] - 0s 3ms/step - loss: 0.0034\n",
      "Epoch 12/50\n",
      "3/3 [==============================] - 0s 4ms/step - loss: 0.0044\n",
      "Epoch 13/50\n",
      "3/3 [==============================] - 0s 4ms/step - loss: 0.0043\n",
      "Epoch 14/50\n",
      "3/3 [==============================] - 0s 3ms/step - loss: 0.0053\n",
      "Epoch 15/50\n",
      "3/3 [==============================] - 0s 3ms/step - loss: 0.0043\n",
      "Epoch 16/50\n",
      "3/3 [==============================] - 0s 4ms/step - loss: 0.0042\n",
      "Epoch 17/50\n",
      "3/3 [==============================] - 0s 4ms/step - loss: 0.0035\n",
      "Epoch 18/50\n",
      "3/3 [==============================] - 0s 4ms/step - loss: 0.0039\n",
      "Epoch 19/50\n",
      "3/3 [==============================] - 0s 3ms/step - loss: 0.0031\n",
      "Epoch 20/50\n",
      "3/3 [==============================] - 0s 3ms/step - loss: 0.0045\n",
      "Epoch 21/50\n",
      "3/3 [==============================] - 0s 4ms/step - loss: 0.0045\n",
      "Epoch 22/50\n",
      "3/3 [==============================] - 0s 4ms/step - loss: 0.0043\n",
      "Epoch 23/50\n",
      "3/3 [==============================] - 0s 3ms/step - loss: 0.0040\n",
      "Epoch 24/50\n",
      "3/3 [==============================] - 0s 4ms/step - loss: 0.0034\n",
      "Epoch 25/50\n",
      "3/3 [==============================] - 0s 4ms/step - loss: 0.0048\n",
      "Epoch 26/50\n",
      "3/3 [==============================] - 0s 4ms/step - loss: 0.0048\n",
      "Epoch 27/50\n",
      "3/3 [==============================] - 0s 4ms/step - loss: 0.0044\n",
      "Epoch 28/50\n",
      "3/3 [==============================] - 0s 3ms/step - loss: 0.0042\n",
      "Epoch 29/50\n",
      "3/3 [==============================] - 0s 4ms/step - loss: 0.0035\n",
      "Epoch 30/50\n",
      "3/3 [==============================] - 0s 4ms/step - loss: 0.0040\n",
      "Epoch 31/50\n",
      "3/3 [==============================] - 0s 4ms/step - loss: 0.0062\n",
      "Epoch 32/50\n",
      "3/3 [==============================] - 0s 3ms/step - loss: 0.0040\n",
      "Epoch 33/50\n",
      "3/3 [==============================] - 0s 3ms/step - loss: 0.0049\n",
      "Epoch 34/50\n",
      "3/3 [==============================] - 0s 4ms/step - loss: 0.0044\n",
      "Epoch 35/50\n",
      "3/3 [==============================] - 0s 4ms/step - loss: 0.0044\n",
      "Epoch 36/50\n",
      "3/3 [==============================] - 0s 3ms/step - loss: 0.0042\n",
      "Epoch 37/50\n",
      "3/3 [==============================] - 0s 4ms/step - loss: 0.0032\n",
      "Epoch 38/50\n",
      "3/3 [==============================] - 0s 3ms/step - loss: 0.0037\n",
      "Epoch 39/50\n",
      "3/3 [==============================] - 0s 4ms/step - loss: 0.0044\n",
      "Epoch 40/50\n",
      "3/3 [==============================] - 0s 4ms/step - loss: 0.0035\n",
      "Epoch 41/50\n",
      "3/3 [==============================] - 0s 4ms/step - loss: 0.0047\n",
      "Epoch 42/50\n",
      "3/3 [==============================] - 0s 4ms/step - loss: 0.0057\n",
      "Epoch 43/50\n",
      "3/3 [==============================] - 0s 3ms/step - loss: 0.0037\n",
      "Epoch 44/50\n",
      "3/3 [==============================] - 0s 4ms/step - loss: 0.0034\n",
      "Epoch 45/50\n",
      "3/3 [==============================] - 0s 4ms/step - loss: 0.0047\n",
      "Epoch 46/50\n",
      "3/3 [==============================] - 0s 4ms/step - loss: 0.0040\n",
      "Epoch 47/50\n",
      "3/3 [==============================] - 0s 3ms/step - loss: 0.0042\n",
      "Epoch 48/50\n",
      "3/3 [==============================] - 0s 4ms/step - loss: 0.0044\n",
      "Epoch 49/50\n",
      "3/3 [==============================] - 0s 4ms/step - loss: 0.0046\n",
      "Epoch 50/50\n",
      "3/3 [==============================] - 0s 5ms/step - loss: 0.0039\n"
     ]
    },
    {
     "data": {
      "text/plain": [
       "<keras.callbacks.History at 0x15fa5616e50>"
      ]
     },
     "execution_count": 15,
     "metadata": {},
     "output_type": "execute_result"
    }
   ],
   "source": [
    "# Train the model\n",
    "model.fit(X_train, y_train, epochs=50, batch_size=32)"
   ]
  },
  {
   "cell_type": "code",
   "execution_count": null,
   "id": "31ea5d37",
   "metadata": {
    "id": "31ea5d37",
    "outputId": "5333921d-b43f-4923-d1ba-f1f14e12b86d"
   },
   "outputs": [
    {
     "name": "stdout",
     "output_type": "stream",
     "text": [
      "2/2 [==============================] - 0s 1ms/step\n"
     ]
    }
   ],
   "source": [
    "predictions = model.predict(X_test)"
   ]
  },
  {
   "cell_type": "code",
   "execution_count": null,
   "id": "91dd196a",
   "metadata": {
    "id": "91dd196a"
   },
   "outputs": [],
   "source": [
    "predictions = scaler.inverse_transform(predictions)"
   ]
  },
  {
   "cell_type": "code",
   "execution_count": null,
   "id": "9a1deef9",
   "metadata": {
    "id": "9a1deef9",
    "outputId": "5e8eb897-3d58-4934-8efb-553cd0644a43"
   },
   "outputs": [
    {
     "data": {
      "image/png": "[encoded data removed]",
      "text/plain": [
       "<Figure size 640x480 with 1 Axes>"
      ]
     },
     "metadata": {},
     "output_type": "display_data"
    }
   ],
   "source": [
    "# Plot the results\n",
    "plt.plot(scaler.inverse_transform(test_data[window_size:]), color='red', label='Current Month')\n",
    "plt.plot(predictions, color='blue', label='Next Month')\n",
    "plt.title('Airline Passengers Prediction')\n",
    "plt.xlabel('Month')\n",
    "plt.ylabel('Passengers')\n",
    "plt.legend()\n",
    "plt.show()"
   ]
  },
  {
   "cell_type": "code",
   "execution_count": null,
   "id": "7cbcf9c8",
   "metadata": {
    "id": "7cbcf9c8"
   },
   "outputs": [],
   "source": []
  }
 ],
 "metadata": {
  "colab": {
   "provenance": []
  },
  "kernelspec": {
   "display_name": "Python 3 (ipykernel)",
   "language": "python",
   "name": "python3"
  },
  "language_info": {
   "codemirror_mode": {
    "name": "ipython",
    "version": 3
   },
   "file_extension": ".py",
   "mimetype": "text/x-python",
   "name": "python",
   "nbconvert_exporter": "python",
   "pygments_lexer": "ipython3",
   "version": "3.11.5"
  }
 },
 "nbformat": 4,
 "nbformat_minor": 5
}
